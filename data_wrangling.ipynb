{
 "cells": [
  {
   "cell_type": "raw",
   "metadata": {},
   "source": [
    "---\n",
    "title: \"Data wrangling\"\n",
    "author: \"Marc Pagès-Gallego\"\n",
    "date: \"03/02/2020\"\n",
    "output: html_document\n",
    "---"
   ]
  },
  {
   "cell_type": "code",
   "execution_count": null,
   "metadata": {
    "echo": true,
    "message": false
   },
   "outputs": [],
   "source": [
    "# packages that we need for the notebook\n",
    "require(preprocessCore)\n",
    "require(sva)\n",
    "require(pcaMethods)\n",
    "require(gplots)\n",
    "require(e1071)\n",
    "source(\"black_box_svm.R\")"
   ]
  },
  {
   "cell_type": "markdown",
   "metadata": {},
   "source": [
    "# Before starting\n",
    "\n",
    "- The purpose of this notebook is to introduce the user to common practices in data quality control, normalization and cleaning for life sciences data. \n",
    "- Please take a minute to think about why we are performing every step, do not rush through it. \n",
    "- There are several questions along the notebook, try to answer them by yourself before looking at the answers or the next section.\n",
    "- If you want to try a specific data transformation that is not shown you can try to implement it yourself or ask for help and we can try to implement it.\n",
    "- The nice thing about data science is that you can try several things and see what is the outcome of each quite quickly, so try different approaches and explore!\n",
    "- Because bioinformatics is such a large field, it is impossible to cover all the possible scenarios, data types and data levels. Although the \"techniques\" that we will work on are mostly designed for omics datasets (transcriptomics, proteomics, metabolomics), try to transfer the presented ideas to your particular experiments.\n",
    "\n",
    "# Introduction\n",
    "\n",
    "Good models in machine learning require high quality data. Otherwise happens what we call *garbage in, garbage out*. Furthermore, prediction models need standardized data; otherwise the trained model will only work for the same particular set of data that was used for training. For these reasons, the first steps in machine learning are composed of data exploration and quality control; and are crucial to ensure that all the downstream tasks are not doomed from the start.\n",
    "\n",
    "In this notebook we will be using a transcriptomics dataset of ColoRectal Cancer (CRC). CRC has four different subtypes (CMS1, CMS2, CMS3 and CMS4) that it can be classified to (you can read more about it [here](https://www.nature.com/articles/nm.3967)). Our objective is to train a machine learning model to classify a CRC sample into the four subtypes. For example, this would be useful if different subtypes receive different treatments, and we want to make sure that a new patient gets the best treatment possible.\n",
    "\n",
    "We will go through a checklist of the main tasks to do before embarking in any machine learning process. This includes:\n",
    "\n",
    "- Sample QC\n",
    "- Normalization\n",
    "- Scaling\n",
    "- Batch correction\n",
    "- Dealing with missing values\n",
    "- Quick ML model example\n",
    "\n",
    "Let's think about two characteristics about the data: \n",
    "\n",
    "- **Type of data**: in this case it is microarray data, but for other types of data (RNA-sequencing, metabolomics mass-spectrometry, proteomics mass-spectrometry, single-cell RNA-sequencing, genomics, ...), although the core concepts of quality control and data standardization are applicable, the method to apply these concepts can be entirely different.\n",
    "- **Experiment design**: even within the same type of data, the design of the experiment will define which are the better or worse approaches to work with the data. It is not the same to do full proteome than to do a IP proteomics. When designing an experiment that will be mostly analyzed by bioinformatics it is extremely important to also include such bioinformatics analysis in the design process: *will I be able to properly normalize the data with the included samples? Do I have enough replicates? Should I include another sample to control for non-specific binding?* Bioinformatics does not do miracles for poorly designed experiments.\n",
    "\n",
    "# The dataset\n",
    "\n",
    "<details>\n",
    "<summary>A little secret</summary>\n",
    "\n",
    "- Although we are using the core data from the paper, it has been artificially modified to include examples of some problems that we might encounter in reality.\n",
    "\n",
    "</details>\n",
    "\n",
    "Loading the dataset: "
   ]
  },
  {
   "cell_type": "code",
   "execution_count": null,
   "metadata": {},
   "outputs": [],
   "source": [
    "sample_data <- read.table(file = 'rawdata/samples_data.txt', header = TRUE, sep = '\\t')\n",
    "expr_data <- read.table(file = 'rawdata/expr_data.txt', header = TRUE, sep = '\\t')\n",
    "gene_data <- read.table(file = 'rawdata/gene_data.txt', header = TRUE, sep = '\\t')"
   ]
  },
  {
   "cell_type": "markdown",
   "metadata": {},
   "source": [
    "We have just read 3 tables that contain the following information:\n",
    "\n",
    "- `sample_data`: contains information about the different samples.\n",
    "- `expr_data`: contains the actual data on gene expression, rows = genes and columns = samples.\n",
    "- `gene_data`: contains information about the measured genes: common names, different ids, etc.\n",
    "\n",
    "The dimensions of `expr_data` tell us about the amount of genes and samples."
   ]
  },
  {
   "cell_type": "code",
   "execution_count": null,
   "metadata": {
    "lines_to_next_cell": 0
   },
   "outputs": [],
   "source": [
    "dim(expr_data)"
   ]
  },
  {
   "cell_type": "markdown",
   "metadata": {},
   "source": [
    "We have 56 samples and 20742 genes.\n",
    "\n",
    "We can take a look at the `sample_data` data.frame to see how does our experiment look like."
   ]
  },
  {
   "cell_type": "code",
   "execution_count": null,
   "metadata": {},
   "outputs": [],
   "source": [
    "sample_data"
   ]
  },
  {
   "cell_type": "code",
   "execution_count": null,
   "metadata": {},
   "outputs": [],
   "source": [
    "str(sample_data)"
   ]
  },
  {
   "cell_type": "code",
   "execution_count": null,
   "metadata": {},
   "outputs": [],
   "source": [
    "table(sample_data$CMS)"
   ]
  },
  {
   "cell_type": "markdown",
   "metadata": {},
   "source": [
    "<details>\n",
    "<summary>What can you say about the data?</summary>\n",
    "\n",
    "- There are 56 samples\n",
    "\n",
    "- Each sample is done in triplicate.\n",
    "\n",
    "- There are 3 batches.\n",
    "\n",
    "- Each replicate is in a different batch.\n",
    "\n",
    "- Not all CMS subtypes are represented equally.\n",
    "\n",
    "</details>"
   ]
  },
  {
   "cell_type": "markdown",
   "metadata": {},
   "source": [
    "# Data normalization\n",
    "\n",
    "## What is data normalization?\n",
    "\n",
    "*Normalization* is a very broad term, it could also include data scaling and batch correction. For this notebook we will keep them separate and define normalization as the process to ensure that all the different samples are comparable between them.\n",
    "\n",
    "Again, think about the type of data that we are working with and about the design of the experiment. Some examples:\n",
    "\n",
    "- Microarray data is composed of intensities, a continuous value, while RNA-seq data is composed of counts, a discrete value. For these two methods, although both measure gene expression, not all normalization approaches will be valid. \n",
    "- In proteomics we could measure whole-proteome or measure protein binding to a certain protein that is being pulled down. In the first case we could assume that all samples should have a similar total amount of protein, but in the second case that would not be possible since each different condition could give drastic changes to the amount of bound proteins. \n",
    "\n",
    "*Different types of data -> different approaches for normalization*\n",
    "\n",
    "*Different types of experiments -> different approaches for normalization*\n",
    "\n",
    "## Just before we start\n",
    "\n",
    "This is microarray data that has already been background corrected using the [RMA method](https://academic.oup.com/biostatistics/article/4/2/249/245074), moreover the data is log2 transformed.\n",
    "\n",
    "## Looking at the data\n",
    "\n",
    "A good starting point is to plot the different samples using [boxplots](https://en.wikipedia.org/wiki/Box_plot). This kind of visualization can give as a general overview of what is the data distribution in each sample."
   ]
  },
  {
   "cell_type": "code",
   "execution_count": null,
   "metadata": {},
   "outputs": [],
   "source": [
    "\n",
    "boxplot(expr_data)\n"
   ]
  },
  {
   "cell_type": "markdown",
   "metadata": {},
   "source": [
    "<details>\n",
    "<summary>This plot already shows some interesting distributions. What do you see?</summary>\n",
    "\n",
    "- There are batch effects. These kind of batch effects should be already known in advance. It is important to know how the samples were processed and annotate which samples belong to which batch.\n",
    "\n",
    "- There are two samples that have a much lower overall gene expression, perhaps something went wrong with them.\n",
    "\n",
    "- Overall all most of the samples have a similar distribution with slighly different means.\n",
    "\n",
    "</details>"
   ]
  },
  {
   "cell_type": "markdown",
   "metadata": {},
   "source": [
    "## The *weird* samples\n",
    "\n",
    "Because normalization takes into account data from all the samples it is important to make sure that all the samples are actually good. At first glance there seems to be two bad samples. Therefore, we have to make a decision on what to do with them: \n",
    "\n",
    "- We keep them.\n",
    "- We trash them.\n",
    "\n",
    "<details>\n",
    "<summary>What can we do to explore a bit better these samples? Any ideas on what might be wrong with them?</summary>\n",
    "\n",
    "We can for example look at the amount of missing values, do they just have overall low expression of many genes or is it just that they are not measured at all.\n",
    "\n",
    "</details>\n",
    "\n",
    "Let's take a look at the amount of missing values"
   ]
  },
  {
   "cell_type": "code",
   "execution_count": null,
   "metadata": {},
   "outputs": [],
   "source": [
    "## sum the amount of missing values in each column (sample)\n",
    "apply(expr_data, 2, function(x) sum(is.na(x)))\n"
   ]
  },
  {
   "cell_type": "markdown",
   "metadata": {},
   "source": [
    "We an see that more than 2/3 of the probes have a missing value. That is not a good sign and will definitely affect our normalization statistics. Therefore we can remove these samples."
   ]
  },
  {
   "cell_type": "code",
   "execution_count": null,
   "metadata": {},
   "outputs": [],
   "source": [
    "## select column numbers with more than 10000 missing values\n",
    "bad_samples <- which(apply(expr_data, 2, function(x) sum(is.na(x))) > 10000)\n",
    "## remove such samples from our tables\n",
    "expr_data <- expr_data[,-bad_samples]\n",
    "sample_data <- sample_data[-bad_samples,]"
   ]
  },
  {
   "cell_type": "markdown",
   "metadata": {},
   "source": [
    "We can check back at the boxplot to see if we have removed the correct ones."
   ]
  },
  {
   "cell_type": "code",
   "execution_count": null,
   "metadata": {},
   "outputs": [],
   "source": [
    "boxplot(expr_data)"
   ]
  },
  {
   "cell_type": "markdown",
   "metadata": {},
   "source": [
    "Trashing samples is a simple method. It might be possible or not depending on the amount of samples that one has. Moreover, carefully consider if a bad sample is really due to technical error, perhaps there is some biology behind, and throwing away such samples might add bias to our experiment.\n",
    "\n",
    "## Normalization approaches\n",
    "\n",
    "Now we can actually normalize the data. There are several methods to do so, some more correct than others depending on the experiment design and the data type. The important concept here is that we want to make the measurements of genes comparable between samples. \n",
    "\n",
    "For example, if geneA has an expression of 2 in sampleA and an expression of 4 in sampleB; we want to be able to say that sampleB has double the expression because it is real and not because sampleB had double the input of mRNA in the microarray.\n",
    "\n",
    "And finally, normalization implies that we have some assumptions about the data and the experiment. Different normalization approaches imply different assumptions, and these can help us decide which method fits best for our experiment.\n",
    "\n",
    "<details>\n",
    "<summary>What would be some fair assumptions about this experiment?</summary>\n",
    "\n",
    "- All the samples should have a comparable total amount of mRNA.\n",
    "\n",
    "- All the samples should have similar distributions.\n",
    "\n",
    "</details>"
   ]
  },
  {
   "cell_type": "markdown",
   "metadata": {},
   "source": [
    "With these assumptions mean substraction, median subsetraction or quantiles normalization would work. Furthermore, it is quite established that for microarray data quantiles normalization works well. Nevertheless we can explore what would these normalizations do to our data distributions.\n",
    "\n",
    "### Mean substraction"
   ]
  },
  {
   "cell_type": "code",
   "execution_count": null,
   "metadata": {},
   "outputs": [],
   "source": [
    "sample_mean <- apply(expr_data, 2, mean, na.rm = T)\n",
    "boxplot(sweep(x = expr_data, MARGIN = 2, STATS = sample_mean, FUN = '-'))\n"
   ]
  },
  {
   "cell_type": "markdown",
   "metadata": {},
   "source": [
    "### Median substraction"
   ]
  },
  {
   "cell_type": "code",
   "execution_count": null,
   "metadata": {},
   "outputs": [],
   "source": [
    "sample_median <- apply(expr_data, 2, median, na.rm = T)\n",
    "boxplot(sweep(x = expr_data, MARGIN = 2, STATS = sample_median, FUN = '-'))\n"
   ]
  },
  {
   "cell_type": "markdown",
   "metadata": {},
   "source": [
    "### Quantiles normalization"
   ]
  },
  {
   "cell_type": "code",
   "execution_count": null,
   "metadata": {},
   "outputs": [],
   "source": [
    "boxplot(normalize.quantiles(as.matrix(expr_data)))\n"
   ]
  },
  {
   "cell_type": "code",
   "execution_count": null,
   "metadata": {
    "lines_to_next_cell": 2
   },
   "outputs": [],
   "source": [
    "norm_data <- normalize.quantiles(as.matrix(expr_data))"
   ]
  },
  {
   "cell_type": "markdown",
   "metadata": {},
   "source": [
    "## Questions\n",
    "\n",
    "- Let's say you have done a proteomics pull down experiment on your favorite protein to see which are their binding partners. On one condition you have the WT protein; but in the other you deleted a piece of the protein genetically, and you expect that a significant portion of binding partners will not be able to bind now. How would you normalize such data?\n",
    "\n",
    "# Batch effect removal\n",
    "\n",
    "Batch effects are changes in the biological data that come from external factors. Different personnel performed the experiment, different machines, different days, different reagents, ...\n",
    "These are important to correct, since they can have an important effect on the data, and lead us to the wrong conclusions. For this reason, it is important to check if we see any of these effects on the data. But even more important, is to know if we should expect these effects since we have designed and performed the experiment. And even if we have not done the experiment personally, we should know how it has been done and what is its design.\n",
    "\n",
    "In the first boxplots that we made, we saw that there is some batch effect going on. We also know which are the samples that have been processed in the same batch from the `sample_data` data.frame.\n",
    "\n",
    "After we have normalized the data, it seems like the batch effect is gone. But is it really gone? Other approaches to check for batch effects are unsupervised clustering and dimensionality reduction. We will not go into detail about explaining these since they are not the objective of this notebook. They are actually explained in depth in the PCA and Clustering notebook.\n",
    "\n",
    "**Quick explanation about PCA**: each gene is a dimension, to plot all the data in one go we would need a ~25000 dimensional plot (which is of course impossible). To solve that, we join all the genes that behave similarly in one dimension. In the plots, each dot is a sample, similar samples will be together in the 2D space; and different samples will be separated. Keep in mind that these 2 dimensions are a subset of all the data, which means that although two samples might seem far away in a dimension they might be close in another dimension. PCAs are also ordered by the amount of variance that they explain, therefore PC1 will show the most variance, then PC2, PC3...\n",
    "\n",
    "**Quick explanation about unsupervised clustering**: we will calculate the distance between a sample and all the others samples. Samples are like points in ~25000 dimensional space, therefore we can calculate their distance like [this](https://getcalc.com/formula/geometry/distance-between-two-points.png). We can do this for all the samples and we can see which ones are most similars and which are not. Notice that the formula we are using is for Euclidean distance, there are other distances and each one has its purpouses and assumptions.\n",
    "\n",
    "## Checking by PCA\n",
    "\n",
    "We can do a quick [Principle Components Analysis](https://en.wikipedia.org/wiki/Principal_component_analysis) (PCA) to see how the samples cluster together (similar samples should be together).\n",
    "\n",
    "<details>\n",
    "<summary>What do you expect to see in the PCA?</summary>\n",
    "\n",
    "- Samples from the same CMS should cluster together.\n",
    "\n",
    "- Triplicates within the CMS cluster should be closer together.\n",
    "\n",
    "</details>\n",
    "\n",
    "We will do a PCA and plot the scores of each sample and color them by CMS."
   ]
  },
  {
   "cell_type": "code",
   "execution_count": null,
   "metadata": {},
   "outputs": [],
   "source": [
    "## calculate the PCA components\n",
    "pca_res <- pca(t(norm_data))\n",
    "## plot PC1 and PC2 and color by CMS subtype\n",
    "plot(pca_res@scores[,1], pca_res@scores[,2], col = sample_data$CMS)"
   ]
  },
  {
   "cell_type": "markdown",
   "metadata": {},
   "source": [
    "And the same plot colored by batch."
   ]
  },
  {
   "cell_type": "code",
   "execution_count": null,
   "metadata": {},
   "outputs": [],
   "source": [
    "## color by batch\n",
    "plot(pca_res@scores[,1], pca_res@scores[,2], col = sample_data$batch)"
   ]
  },
  {
   "cell_type": "markdown",
   "metadata": {},
   "source": [
    "<details>\n",
    "<summary>What do these PCA plots show?</summary>\n",
    "\n",
    "- There is still a clear batch effect since the samples are clustered by batch.\n",
    "</details>\n",
    "\n",
    "## Checking by distance matrix\n",
    "\n",
    "We can also calculate what is the distance between all the samples to see which ones are most similar and which are most different. "
   ]
  },
  {
   "cell_type": "code",
   "execution_count": null,
   "metadata": {},
   "outputs": [],
   "source": [
    "## calculate the distance matrix between samples\n",
    "distance_matrix <- as.matrix(dist(t(norm_data), method = \"euclidean\", upper = TRUE, diag = TRUE))"
   ]
  },
  {
   "cell_type": "code",
   "execution_count": null,
   "metadata": {},
   "outputs": [],
   "source": [
    "cms_colors <- c('red', 'blue', 'green', 'black')\n",
    "batch_colors <- c('red', 'blue', 'green')\n",
    "cms_colors_col <- cms_colors[sample_data$CMS]\n",
    "batch_colors_col <- cms_colors[sample_data$batch]"
   ]
  },
  {
   "cell_type": "code",
   "execution_count": null,
   "metadata": {},
   "outputs": [],
   "source": [
    "heatmap.2(x = distance_matrix, \n",
    "          trace = 'none', \n",
    "          ColSideColors = cms_colors_col)\n"
   ]
  },
  {
   "cell_type": "markdown",
   "metadata": {},
   "source": [
    "The more red the color, the more similar two samples are with each other. The colors at the top display the CMS subtype. Do you see any clusters?"
   ]
  },
  {
   "cell_type": "code",
   "execution_count": null,
   "metadata": {
    "lines_to_next_cell": 2
   },
   "outputs": [],
   "source": [
    "heatmap.2(x = distance_matrix, \n",
    "          trace = 'none', \n",
    "          ColSideColors = batch_colors_col)\n"
   ]
  },
  {
   "cell_type": "markdown",
   "metadata": {},
   "source": [
    "<details>\n",
    "<summary>What do these heatmaps show?</summary>\n",
    "\n",
    "- There is still a clear batch effect since the samples are clustered by batch.\n",
    "</details>"
   ]
  },
  {
   "cell_type": "markdown",
   "metadata": {},
   "source": [
    "## Correcting the batch effect\n",
    "\n",
    "To correct the batch effect several methods have been implemented. For microarray data particularly, the [ComBat](https://academic.oup.com/biostatistics/article/8/1/118/252073) method has been shown to work particularly well. But for other types of data, single-cell rna-seq data there are other methods.\n",
    "\n",
    "Notice that batch correction is a supervised approach, meaning that we need to know *a priori* which are the different batches."
   ]
  },
  {
   "cell_type": "code",
   "execution_count": null,
   "metadata": {},
   "outputs": [],
   "source": [
    "\n",
    "batch_corr_data <- sva::ComBat(norm_data, batch = sample_data$batch)\n"
   ]
  },
  {
   "cell_type": "markdown",
   "metadata": {},
   "source": [
    "Now try to explore again the batch corrected data and see what happened.\n",
    "\n",
    "## Explore by PCA"
   ]
  },
  {
   "cell_type": "code",
   "execution_count": null,
   "metadata": {},
   "outputs": [],
   "source": [
    "pca_res <- pca(t(batch_corr_data))\n"
   ]
  },
  {
   "cell_type": "code",
   "execution_count": null,
   "metadata": {},
   "outputs": [],
   "source": [
    "\n",
    "plot(pca_res@scores[,1], pca_res@scores[,2], col = sample_data$CMS)\n"
   ]
  },
  {
   "cell_type": "code",
   "execution_count": null,
   "metadata": {},
   "outputs": [],
   "source": [
    "\n",
    "plot(pca_res@scores[,1], pca_res@scores[,2], col = sample_data$batch)\n"
   ]
  },
  {
   "cell_type": "markdown",
   "metadata": {},
   "source": [
    "- What has changed?\n",
    "\n",
    "## Explore by distance "
   ]
  },
  {
   "cell_type": "code",
   "execution_count": null,
   "metadata": {
    "lines_to_next_cell": 2
   },
   "outputs": [],
   "source": [
    "distance_matrix <- as.matrix(dist(t(batch_corr_data), upper = TRUE, diag = TRUE))"
   ]
  },
  {
   "cell_type": "code",
   "execution_count": null,
   "metadata": {},
   "outputs": [],
   "source": [
    "\n",
    "heatmap.2(x = distance_matrix, \n",
    "          trace = 'none', \n",
    "          ColSideColors = cms_colors_col)\n"
   ]
  },
  {
   "cell_type": "code",
   "execution_count": null,
   "metadata": {
    "lines_to_next_cell": 2
   },
   "outputs": [],
   "source": [
    "heatmap.2(x = distance_matrix, \n",
    "          trace = 'none', \n",
    "          ColSideColors = batch_colors_col)\n"
   ]
  },
  {
   "cell_type": "markdown",
   "metadata": {},
   "source": [
    "## Questions\n",
    "\n",
    "-  Why are not the different CMS subtypes not perfectly clustered together even after normalization and batch correction?\n",
    "\n",
    "# Scaling\n",
    "\n",
    "Scaling is also part of the normalization process. Scaling can be done on the samples and/or on the features.\n",
    "\n",
    "- Scaling of the samples is done to make datasets compatible. If one dataset is in log2 scale, but the other is in log10 scale they are not compatible because the same feature will have significant different ranges depending on the dataset.\n",
    "\n",
    "- Feature importance. It is important that features are all in a similar (if not the same) scale. For example, before we calculated the Euclidean distance, in it we calculated the difference between expression of genes. Let's consider that a geneA goes from expression of 1 to 1.2; in the same sample geneB goes from 0.1 to 0.2. geneB has quite a change in gene expression because it is doubled between samples; while geneA has a 20% increase. In Euclidean space now the difference is 0.2 and 0.1, making the change in expression of geneA the larger one. Therefore consider, for your particular experiment, which features should be the important ones, if there should be any at all.\n",
    "\n",
    "In our example we already had the data a scaled a bit since we are working with log transformed values. Therefore making genes with really high expression less valuable compared to lower expressed genes. But we might consider scaling all the genes between 0-1, so that we only compare relative expression between samples.\n",
    "\n",
    "## Scaling methods\n",
    "\n",
    "There are several scaling methods, this [article](https://link.springer.com/article/10.1186/1471-2164-7-142) has a nice table with several scaling methods that can be used.\n",
    "\n",
    "![](img/scaling_table.png)\n",
    "\n",
    "# Dealing with missing values\n",
    "\n",
    "Missing values are quite common and it is important to understand why they exist in our dataset. Again, consider the type of data and the experiment design when thinking about this.\n",
    "\n",
    "These are the different types:\n",
    "\n",
    "- **Missing completely at random**: as the name indicates, these are values that you did not measure because of bad luck. Perhaps the probe was defective, the peptide did not fly well in the mass spec, etc.\n",
    "- **Missing not at random**: these are values that are missing because of a reason. For example, the method has a limit of detection and this feature was below it. That does not mean that for example, the gene is not expressed, but rather we do not have the technology to detect its low level of expression. It could also be that the gene is actually not expressed at all because of a condition of the experiment. Or a metabolite is not detected because of the extraction method.\n",
    "- **Missing because of the data processing**: these should be quite easily detectable. These are actually values that we had measured at some point and that became missing because of some processing step. For example, we tried to take the log of a negative number or calculate the mean of a set that contained a `NA` value. It is important to always check our data before and after each processing step, and make sure that everything is as we expect it to be. \n",
    "\n",
    "There are different types of missing values, it is crucial to be able to differentiate between them whenever possible since the methods that are used to deal with each type are different. Sadly, most of the times we have a combination of these different types and it can be difficult to confidently tell which on is which. \n",
    "\n",
    "In R missing values are usually denoted as `NA`, but it might be different in other platforms. Consider also if `0` is a missing value or means that it was not truly measured.\n",
    "\n",
    "Let's explore how many missing values we have."
   ]
  },
  {
   "cell_type": "code",
   "execution_count": null,
   "metadata": {},
   "outputs": [],
   "source": [
    "sum(is.na(expr_data))"
   ]
  },
  {
   "cell_type": "markdown",
   "metadata": {},
   "source": [
    "And how many non missing values."
   ]
  },
  {
   "cell_type": "code",
   "execution_count": null,
   "metadata": {},
   "outputs": [],
   "source": [
    "sum(!is.na(expr_data))"
   ]
  },
  {
   "cell_type": "markdown",
   "metadata": {},
   "source": [
    "So there are not so many missing values. Still we want to decide what to do with them. So let's try to find out which type of missing values are they. \n",
    "\n",
    "<details>\n",
    "<summary>How would you check which kind of missing values are they?</summary>\n",
    "\n",
    "- See if there are any samples with a lot/very few missing values.\n",
    "\n",
    "- See if there are any features with a lot/very few missing values.\n",
    "\n",
    "- See in which part of the distribution are the missing values.\n",
    "\n",
    "</details>\n",
    "\n",
    "Missing values per sample."
   ]
  },
  {
   "cell_type": "code",
   "execution_count": null,
   "metadata": {},
   "outputs": [],
   "source": [
    "apply(expr_data, 2, function(x) sum(is.na(x)))\n",
    "\n",
    "hist(apply(expr_data, 2, function(x) sum(is.na(x))))"
   ]
  },
  {
   "cell_type": "markdown",
   "metadata": {},
   "source": [
    "Seems that most samples have between 30-35 missing values. We actually already took care of two samples before that had a lot of missing values. So it doesn't look like there is anything too worrying here. If all the missing values where in one sample for example, then we might want to further investigate that.\n",
    "\n",
    "Missing values per gene."
   ]
  },
  {
   "cell_type": "code",
   "execution_count": null,
   "metadata": {},
   "outputs": [],
   "source": [
    "table(apply(expr_data, 1, function(x) sum(is.na(x))))"
   ]
  },
  {
   "cell_type": "markdown",
   "metadata": {},
   "source": [
    "Most genes have 0 missing values and then there are some have from 1 to 20. \n",
    "\n",
    "<details>\n",
    "<summary>Notice anything strange about these values?</summary>\n",
    "\n",
    "- Why such a change from 2 to 18 missing values?.\n",
    "\n",
    "</details>\n",
    "\n",
    "Perhaps by using a heatmap we can spot what is happening.\n",
    "\n",
    "We can use colors to tell the different subtypes apart:\n",
    "- Orange: CMS1\n",
    "- Blue: CMS2\n",
    "- Green: CMS3\n",
    "- Yellow: CMS4"
   ]
  },
  {
   "cell_type": "code",
   "execution_count": null,
   "metadata": {},
   "outputs": [],
   "source": [
    "colors <- c('CMS1' = \"#E69F00\", 'CMS2' = \"#56B4E9\", \n",
    "            'CMS3' = \"#009E73\", 'CMS4' = \"#F0E442\")\n",
    "colors_vec <- sapply(sample_data$CMS, function(x) {\n",
    "  return(colors[as.character(x)])\n",
    "})"
   ]
  },
  {
   "cell_type": "code",
   "execution_count": null,
   "metadata": {},
   "outputs": [],
   "source": [
    "## reduce the plot to only genes that at least 1 missing value\n",
    "genes_with_nas <- which(apply(expr_data, 1, function(x) sum(is.na(x))) > 0)\n",
    "reduced_mat <- as.matrix(expr_data[genes_with_nas,])\n",
    "\n",
    "heatmap.2(reduced_mat, Rowv = NULL, Colv = NULL, \n",
    "          dendrogram = 'none', scale = 'none', trace = 'none', \n",
    "          ColSideColors = colors_vec, na.color = 'grey30')\n"
   ]
  },
  {
   "cell_type": "markdown",
   "metadata": {},
   "source": [
    "<details>\n",
    "<summary>What are your first impressions?</summary>\n",
    "\n",
    "- It looks quite random, although most of the data is at the lower end of the expression distribution. Probably most of these missing values are just \"random\" because of the limit of detection.\n",
    "\n",
    "</details>\n",
    "\n",
    "We can focus only on the genes that have between 1 and 5 missing values."
   ]
  },
  {
   "cell_type": "code",
   "execution_count": null,
   "metadata": {},
   "outputs": [],
   "source": [
    "genes_with_nas <- which(apply(expr_data, 1, function(x) sum(is.na(x))) > 0 & \n",
    "                          apply(expr_data, 1, function(x) sum(is.na(x))) < 6)\n",
    "reduced_mat <- as.matrix(expr_data[genes_with_nas,])\n",
    "\n",
    "heatmap.2(reduced_mat, Rowv = NULL, Colv = NULL,\n",
    "          dendrogram = 'none', scale = 'none', trace = 'none', \n",
    "          ColSideColors = colors_vec, na.color = 'grey30')\n"
   ]
  },
  {
   "cell_type": "markdown",
   "metadata": {},
   "source": [
    "<details>\n",
    "<summary>What are your first impressions?</summary>\n",
    "\n",
    "- Very similar to as before, this is expected since most of the genes had less than 3 missing values.\n",
    "\n",
    "</details>\n",
    "\n",
    "We can check the genes with more than 5 missing values"
   ]
  },
  {
   "cell_type": "code",
   "execution_count": null,
   "metadata": {},
   "outputs": [],
   "source": [
    "genes_with_nas <- which(apply(expr_data, 1, function(x) sum(is.na(x))) > 5)\n",
    "reduced_mat <- as.matrix(expr_data[genes_with_nas,])\n",
    "\n",
    "heatmap.2(reduced_mat, Rowv = FALSE, Colv = FALSE, \n",
    "          dendrogram = 'none', scale = 'none', trace = 'none', \n",
    "          ColSideColors = colors_vec, na.color = 'grey30')\n"
   ]
  },
  {
   "cell_type": "markdown",
   "metadata": {},
   "source": [
    "<details>\n",
    "<summary>What are your first impressions?</summary>\n",
    "\n",
    "- These are genes that are clear on the low end of expression. Probably missing because of the limit of detection. Besides that it would seem random.\n",
    "- There is one gene that stands out! it appears that is detected with high expression in all samples but the ones in CMS2!\n",
    "\n",
    "</details>\n",
    "\n",
    "So far we have explored our missing values. It looks like the majority of them are random, with emphasis at missing at random but with a detection limit component. Finally there is one gene that has not at random missing values.\n",
    "\n",
    "Now we have to decide what do we do with these missing values. Again, depending on the type of data and experiment we might want to keep the missing values, remove them or impute them. It is important to decide whether the missingness of a value has information or not.\n",
    "\n",
    "Some options of what we can do:\n",
    "\n",
    "- The simple and extreme case would be to remove all genes with missing values. This is a simple method that will give you a dataset with no missing data. \n",
    "- Another method would be to remove genes that have a lot of missing values but keep the ones with few missing values. The threshold is quite arbitrary.\n",
    "- Another method would be to impute them, this means giving them an actual measurement. But which measurement should we give them? This option even opens more options, in which we have to decide which imputation method we want to use, some examples would be:\n",
    "  - Use the average of the sample\n",
    "  - Use a value close to the limit of detection\n",
    "  - Impute it based on its most similar sample\n",
    "  \n",
    "<details>\n",
    "<summary>What would you do?</summary>\n",
    "\n",
    "Dealing with missing values is quite complex and is extremely dependent on the experiment. In this particular case our final objective is to build a predictor, a predictor needs to be robust, therefore using genes that are sometimes detected and sometimes not is not a good idea. Since most of the values seem random imputation based on the most similar sample would probably work fine. On the other hand, since there are not so many genes that actually have missing values we could also not use them.\n",
    "\n",
    "</details>\n",
    "\n",
    "We can also try different methods, and then see how the data looks like; specially in this case since we are adding data that will be as important as the real data we want to check that we are not creating any aberrations.\n",
    "\n",
    "Removing missing genes."
   ]
  },
  {
   "cell_type": "code",
   "execution_count": null,
   "metadata": {},
   "outputs": [],
   "source": [
    "genes_to_remove <- which(apply(expr_data, 1, function(x) sum(is.na(x))) > 0)\n",
    "\n",
    "reduced_data <- expr_data[-genes_to_remove,]\n"
   ]
  },
  {
   "cell_type": "markdown",
   "metadata": {},
   "source": [
    "Setting missing values as the sample mean."
   ]
  },
  {
   "cell_type": "code",
   "execution_count": null,
   "metadata": {},
   "outputs": [],
   "source": [
    "mean_col <- apply(expr_data, 1, mean, rm.na = TRUE)\n",
    "imputed_data <- expr_data\n",
    "for (i in seq_len(ncol(imputed_data))) {\n",
    "  \n",
    "  col_data <- imputed_data[,i]\n",
    "  col_data[is.na(col_data)] <- mean_col[i]\n",
    "  imputed_data[,i] <- col_data\n",
    "  \n",
    "}\n"
   ]
  },
  {
   "cell_type": "markdown",
   "metadata": {},
   "source": [
    "Setting missing values as a lower quantile value."
   ]
  },
  {
   "cell_type": "code",
   "execution_count": null,
   "metadata": {},
   "outputs": [],
   "source": [
    "\n",
    "quantile(expr_data, na.rm = T)\n",
    "imputed_data <- expr_data\n",
    "imputed_data[is.na(imputed_data)] <- quantile(expr_data, na.rm = T)[1]\n",
    "\n",
    "norm_imputed <- normalize.quantiles(as.matrix(imputed_data))\n",
    "\n",
    "norm_imputed_batchcorr <- sva::ComBat(norm_imputed, batch = sample_data$batch)\n"
   ]
  },
  {
   "cell_type": "markdown",
   "metadata": {},
   "source": [
    "## Questions\n",
    "\n",
    "- How can you determine if a sample has too many missing values?\n",
    "- When do we impute/remove missing values? Before or after normalization?"
   ]
  },
  {
   "cell_type": "markdown",
   "metadata": {},
   "source": [
    "# Feature selection (pre-ML)\n",
    "\n",
    "This part will very briefly touch on aleviating the amount of data given to to train/predict. We have measured ~25000 genes, but to predict the different subtypes just a few of them are necessary. In this follow-up [paper](https://www.ncbi.nlm.nih.gov/pmc/articles/PMC5864202/) they built a classifier with 113 probes. Therefore it would reduce the amount of computation time and difficulty for the algorithms if we could *a priori* reduce the amount of features. There is also the consideration of robustness, reducing the amount of required features is nice, but reducing it too much might make our method too unstable, having some redundancy is also nice.\n",
    "\n",
    "This part is highly dependent on the machine learning method used, some methods have feature selection already incorporated in the algorithm itself, while some others do not. You can read about it [here](http://topepo.github.io/caret/feature-selection-overview.html).\n",
    "\n",
    "Nevertheless, let's say that our algorithm does not have feature selection.\n",
    "\n",
    "**IMPORTANT**: feature selection is part of ML, therefore we must apply cross-validation methods to ensure that we are not overestimating the performance of our model. \n",
    "\n",
    "<details>\n",
    "<summary>What kind of metrics could we used to reduce the amount of features?</summary>\n",
    "\n",
    "- Features that have near zero variance: if the expression of a gene does not change across samples it will not be informative.\n",
    "\n",
    "- Correlated features: if two or more genes have a highly correlated expression, they contain the same information.\n",
    "\n",
    "- Linear dependencies: if the expression of a gene can be calculated by the mathematical combination of two or more other genes. \n",
    "\n",
    "</details>\n",
    "\n",
    "## Zero variance features\n",
    "\n",
    "We can check how many features have low variance."
   ]
  },
  {
   "cell_type": "code",
   "execution_count": null,
   "metadata": {},
   "outputs": [],
   "source": [
    "hist(apply(batch_corr_data, 1, var, na.rm = T), xlim = c(0, 5), breaks = 100, main = \"Variance\")"
   ]
  },
  {
   "cell_type": "markdown",
   "metadata": {},
   "source": [
    "As we can see, many of them have very low variance, these are not very informative. \n",
    "\n",
    "<details>\n",
    "<summary>Does higher variance correlate with better class separation?</summary>\n",
    "\n",
    "- We actually do not know that. It simply tells us how disperse is a feature. \n",
    "\n",
    "</details>\n",
    "\n",
    "In this case we could remove genes that have less than a certain variance threshold."
   ]
  },
  {
   "cell_type": "code",
   "execution_count": null,
   "metadata": {},
   "outputs": [],
   "source": [
    "relevant_genes <- which(apply(batch_corr_data, 1, var, na.rm = T) > 0.5)\n",
    "\n",
    "batch_corr_data <- batch_corr_data[relevant_genes,]\n",
    "\n",
    "length(relevant_genes)"
   ]
  },
  {
   "cell_type": "markdown",
   "metadata": {},
   "source": [
    "## Highly correlated genes\n",
    "\n",
    "We could remove groups of genes that have high correlation, since in that case they would contain the same information. \n",
    "\n",
    "This of course requires to set up a threshold on what does high correlation means.\n"
   ]
  },
  {
   "cell_type": "code",
   "execution_count": null,
   "metadata": {},
   "outputs": [],
   "source": [
    "\n",
    "descrCor <-  cor(batch_corr_data, use = 'complete.obs')\n",
    "\n",
    "hist(descrCor)"
   ]
  },
  {
   "cell_type": "markdown",
   "metadata": {},
   "source": [
    "Perhaps we could compress all the highly correlated genes into a single meta-gene. This would be essentially PCA, which also includes the variance problem described above in it.\n",
    "\n",
    "# Some quick ML\n",
    "\n",
    "We can try different combinations of the above described methods (normalization, scaling, dealing with missing values) and see what is their effect on training a model.\n",
    "\n",
    "To get some reliable values we will do a simple quick cross-validation by setting up a subset of the samples separated. Let's keep for example the 3rd batch out.\n",
    "\n",
    "## With normalization, imputation and batch correction"
   ]
  },
  {
   "cell_type": "code",
   "execution_count": null,
   "metadata": {},
   "outputs": [],
   "source": [
    "\n",
    "x_train <- norm_imputed_batchcorr[, sample_data$batch %in% c(1, 2)]\n",
    "x_validation <- norm_imputed_batchcorr[, sample_data$batch %in% c(3)]\n",
    "y_train <- sample_data$CMS[sample_data$batch %in% c(1, 2)]\n",
    "y_validation <- sample_data$CMS[sample_data$batch %in% c(3)]\n"
   ]
  },
  {
   "cell_type": "code",
   "execution_count": null,
   "metadata": {},
   "outputs": [],
   "source": [
    "\n",
    "model <- build_model(x_train, y_train)\n",
    "predictions <- predict_new_data(x_validation, model)\n",
    "performance(y_validation, predictions)\n"
   ]
  },
  {
   "cell_type": "markdown",
   "metadata": {},
   "source": [
    "Let's try with other datasets, for example if we use `norm_imputed` that has not been batch corrected, will it work? You can try other states of the dataset, unfortunately this machine learning method does not deal automatically with missing values, so you will have to take care of them first.\n",
    "\n",
    "## With normalization, imputation and NOT batch correction"
   ]
  },
  {
   "cell_type": "code",
   "execution_count": null,
   "metadata": {},
   "outputs": [],
   "source": [
    "\n",
    "x_train <- norm_imputed[, sample_data$batch %in% c(1, 2)]\n",
    "x_validation <- norm_imputed[, sample_data$batch %in% c(3)]\n",
    "y_train <- sample_data$CMS[sample_data$batch %in% c(1, 2)]\n",
    "y_validation <- sample_data$CMS[sample_data$batch %in% c(3)]\n"
   ]
  },
  {
   "cell_type": "code",
   "execution_count": null,
   "metadata": {},
   "outputs": [],
   "source": [
    "\n",
    "model <- build_model(x_train, y_train)\n",
    "predictions <- predict_new_data(x_validation, model)\n",
    "performance(y_validation, predictions)\n"
   ]
  },
  {
   "cell_type": "markdown",
   "metadata": {},
   "source": [
    "## With normalization, imputation, batch correction and randomized labels"
   ]
  },
  {
   "cell_type": "code",
   "execution_count": null,
   "metadata": {},
   "outputs": [],
   "source": [
    "\n",
    "x_train <- norm_imputed[, sample_data$batch %in% c(1, 2)]\n",
    "x_validation <- norm_imputed[, sample_data$batch %in% c(3)]\n",
    "y_train <- sample_data$CMS[sample_data$batch %in% c(1, 2)]\n",
    "y_validation <- sample_data$CMS[sample_data$batch %in% c(3)]\n",
    "\n",
    "y_train <- sample(y_train, length(y_train))\n"
   ]
  },
  {
   "cell_type": "code",
   "execution_count": null,
   "metadata": {},
   "outputs": [],
   "source": [
    "\n",
    "model <- build_model(x_train, y_train)\n",
    "predictions <- predict_new_data(x_validation, model)\n",
    "performance(y_validation, predictions)\n"
   ]
  },
  {
   "cell_type": "markdown",
   "metadata": {},
   "source": [
    "# Beyond data wrangling\n",
    "\n",
    "- Cross-validation\n",
    "- Class balance\n",
    "\n",
    "# Conclusions\n",
    "\n",
    "In this notebook we have learned about some of the key aspects of data pre-processing, exploration and cleaning. Keep in mind, that the methods that we have applied here are particularly suited for this kind of data and experiment. It is of extreme importance to research which are the adequate methods for each type of dataset and type of experiment."
   ]
  }
 ],
 "metadata": {
  "jupytext": {
   "cell_metadata_filter": "echo,message,-all",
   "main_language": "R",
   "notebook_metadata_filter": "-all"
  }
 },
 "nbformat": 4,
 "nbformat_minor": 2
}
